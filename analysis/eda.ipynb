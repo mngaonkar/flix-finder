{
 "cells": [
  {
   "cell_type": "code",
   "execution_count": 1,
   "metadata": {},
   "outputs": [],
   "source": [
    "import pandas as pd"
   ]
  },
  {
   "cell_type": "code",
   "execution_count": 12,
   "metadata": {},
   "outputs": [
    {
     "name": "stdout",
     "output_type": "stream",
     "text": [
      "--2025-02-18 19:00:13--  https://dumps.wikimedia.org/enwiki/latest/enwiki-latest-pages-articles-multistream.xml.bz2\n",
      "Resolving dumps.wikimedia.org (dumps.wikimedia.org)... 2620:0:861:3:208:80:154:71, 208.80.154.71\n",
      "Connecting to dumps.wikimedia.org (dumps.wikimedia.org)|2620:0:861:3:208:80:154:71|:443... connected.\n",
      "HTTP request sent, awaiting response... 200 OK\n",
      "Length: 24642610651 (23G) [application/octet-stream]\n",
      "Saving to: ‘enwiki-latest-pages-articles-multistream.xml.bz2’\n",
      "\n",
      "         enwiki-lat  24%[===>                ]   5.72G  3.91MB/s    eta 71m 32s^C\n"
     ]
    }
   ],
   "source": [
    "# Download wikipedia dump from https://dumps.wikimedia.org/enwiki/latest/enwiki-latest-pages-articles.xml.bz2\n",
    "!wget https://dumps.wikimedia.org/enwiki/latest/enwiki-latest-pages-articles-multistream.xml.bz2"
   ]
  },
  {
   "cell_type": "code",
   "execution_count": null,
   "metadata": {},
   "outputs": [],
   "source": [
    "# Download index file from https://dumps.wikimedia.org/enwiki/latest/enwiki-latest-pages-articles-multistream-index.txt.bz2\n",
    "# This file is used to find the byte offset of each article in the dump\n",
    "!wget https://dumps.wikimedia.org/enwiki/latest/enwiki-latest-pages-articles-multistream-index.txt.bz2"
   ]
  },
  {
   "cell_type": "code",
   "execution_count": 4,
   "metadata": {},
   "outputs": [],
   "source": [
    "# read movies database\n",
    "movie_db = pd.read_csv('../database/movies.csv')"
   ]
  },
  {
   "cell_type": "code",
   "execution_count": null,
   "metadata": {},
   "outputs": [],
   "source": []
  },
  {
   "cell_type": "code",
   "execution_count": 5,
   "metadata": {},
   "outputs": [
    {
     "data": {
      "text/html": [
       "<div>\n",
       "<style scoped>\n",
       "    .dataframe tbody tr th:only-of-type {\n",
       "        vertical-align: middle;\n",
       "    }\n",
       "\n",
       "    .dataframe tbody tr th {\n",
       "        vertical-align: top;\n",
       "    }\n",
       "\n",
       "    .dataframe thead th {\n",
       "        text-align: right;\n",
       "    }\n",
       "</style>\n",
       "<table border=\"1\" class=\"dataframe\">\n",
       "  <thead>\n",
       "    <tr style=\"text-align: right;\">\n",
       "      <th></th>\n",
       "      <th>id</th>\n",
       "      <th>title</th>\n",
       "      <th>cast</th>\n",
       "      <th>plot</th>\n",
       "      <th>poster</th>\n",
       "    </tr>\n",
       "  </thead>\n",
       "  <tbody>\n",
       "    <tr>\n",
       "      <th>0</th>\n",
       "      <td>3947</td>\n",
       "      <td>Blue Velvet (film)</td>\n",
       "      <td>{{cast listing|&lt;!-- Cast is in credits order ...</td>\n",
       "      <td>&lt;!-- Per WP:FILMPLOT  plot summaries for featu...</td>\n",
       "      <td>https://upload.wikimedia.org/wikipedia/en/f/fd...</td>\n",
       "    </tr>\n",
       "    <tr>\n",
       "      <th>1</th>\n",
       "      <td>4231</td>\n",
       "      <td>Buffy the Vampire Slayer (film)</td>\n",
       "      <td>{{Cast listing|* [[Kristy Swanson]] as [[Buff...</td>\n",
       "      <td>[[Buffy Summers]] is a cheerleader at Hemery H...</td>\n",
       "      <td>https://upload.wikimedia.org/wikipedia/en/0/09...</td>\n",
       "    </tr>\n",
       "    <tr>\n",
       "      <th>2</th>\n",
       "      <td>4729</td>\n",
       "      <td>Batman &amp;amp; Robin (film)</td>\n",
       "      <td>{{div col}}* [[Arnold Schwarzenegger]] as [[V...</td>\n",
       "      <td>&lt;!-- Per WP:FILMPLOT  plot summaries for featu...</td>\n",
       "      <td>https://upload.wikimedia.org/wikipedia/en/3/37...</td>\n",
       "    </tr>\n",
       "    <tr>\n",
       "      <th>3</th>\n",
       "      <td>11585</td>\n",
       "      <td>Show Me Love (film)</td>\n",
       "      <td>* [[Alexandra Dahlström]] as Elin Olsson* [[R...</td>\n",
       "      <td>Two girls  Agnes and Elin  attend school in th...</td>\n",
       "      <td>https://upload.wikimedia.org/wikipedia/en/9/96...</td>\n",
       "    </tr>\n",
       "    <tr>\n",
       "      <th>4</th>\n",
       "      <td>19055</td>\n",
       "      <td>Manufacturing Consent (film)</td>\n",
       "      <td>None</td>\n",
       "      <td>The film presents and illustrates Chomsky and ...</td>\n",
       "      <td>https://upload.wikimedia.org/wikipedia/en/1/11...</td>\n",
       "    </tr>\n",
       "  </tbody>\n",
       "</table>\n",
       "</div>"
      ],
      "text/plain": [
       "      id                            title  \\\n",
       "0   3947               Blue Velvet (film)   \n",
       "1   4231  Buffy the Vampire Slayer (film)   \n",
       "2   4729        Batman &amp; Robin (film)   \n",
       "3  11585              Show Me Love (film)   \n",
       "4  19055     Manufacturing Consent (film)   \n",
       "\n",
       "                                                cast  \\\n",
       "0   {{cast listing|<!-- Cast is in credits order ...   \n",
       "1   {{Cast listing|* [[Kristy Swanson]] as [[Buff...   \n",
       "2   {{div col}}* [[Arnold Schwarzenegger]] as [[V...   \n",
       "3   * [[Alexandra Dahlström]] as Elin Olsson* [[R...   \n",
       "4                                               None   \n",
       "\n",
       "                                                plot  \\\n",
       "0  <!-- Per WP:FILMPLOT  plot summaries for featu...   \n",
       "1  [[Buffy Summers]] is a cheerleader at Hemery H...   \n",
       "2  <!-- Per WP:FILMPLOT  plot summaries for featu...   \n",
       "3  Two girls  Agnes and Elin  attend school in th...   \n",
       "4  The film presents and illustrates Chomsky and ...   \n",
       "\n",
       "                                              poster  \n",
       "0  https://upload.wikimedia.org/wikipedia/en/f/fd...  \n",
       "1  https://upload.wikimedia.org/wikipedia/en/0/09...  \n",
       "2  https://upload.wikimedia.org/wikipedia/en/3/37...  \n",
       "3  https://upload.wikimedia.org/wikipedia/en/9/96...  \n",
       "4  https://upload.wikimedia.org/wikipedia/en/1/11...  "
      ]
     },
     "execution_count": 5,
     "metadata": {},
     "output_type": "execute_result"
    }
   ],
   "source": [
    "movie_db.head()"
   ]
  },
  {
   "cell_type": "code",
   "execution_count": null,
   "metadata": {},
   "outputs": [],
   "source": []
  }
 ],
 "metadata": {
  "kernelspec": {
   "display_name": "berkeley_ai",
   "language": "python",
   "name": "berkeley_ai"
  },
  "language_info": {
   "codemirror_mode": {
    "name": "ipython",
    "version": 3
   },
   "file_extension": ".py",
   "mimetype": "text/x-python",
   "name": "python",
   "nbconvert_exporter": "python",
   "pygments_lexer": "ipython3",
   "version": "3.11.9"
  }
 },
 "nbformat": 4,
 "nbformat_minor": 2
}
