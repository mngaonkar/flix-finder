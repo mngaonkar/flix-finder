{
 "cells": [
  {
   "cell_type": "code",
   "execution_count": 1,
   "metadata": {},
   "outputs": [],
   "source": [
    "import pandas as pd\n",
    "import re"
   ]
  },
  {
   "cell_type": "code",
   "execution_count": 2,
   "metadata": {},
   "outputs": [],
   "source": [
    "# Download wikipedia dump from https://dumps.wikimedia.org/enwiki/latest/enwiki-latest-pages-articles.xml.bz2\n",
    "# !wget https://dumps.wikimedia.org/enwiki/latest/enwiki-latest-pages-articles-multistream.xml.bz2"
   ]
  },
  {
   "cell_type": "code",
   "execution_count": 3,
   "metadata": {},
   "outputs": [],
   "source": [
    "# Download index file from https://dumps.wikimedia.org/enwiki/latest/enwiki-latest-pages-articles-multistream-index.txt.bz2\n",
    "# This file is used to find the byte offset of each article in the dump\n",
    "# !wget https://dumps.wikimedia.org/enwiki/latest/enwiki-latest-pages-articles-multistream-index.txt.bz2"
   ]
  },
  {
   "cell_type": "code",
   "execution_count": 4,
   "metadata": {},
   "outputs": [],
   "source": [
    "# Extract wikipedia index file\n",
    "#!bzip2 -d enwiki-latest-pages-articles-multistream-index.txt.bz2\n",
    "\n",
    "# Parse wikipedia index file to extract movie indices\n",
    "# %run -i ../tools/parse_movie_index.py --index_file enwiki-latest-pages-articles-multistream-index.txt --out_file movie_index.txt"
   ]
  },
  {
   "cell_type": "code",
   "execution_count": 5,
   "metadata": {},
   "outputs": [],
   "source": [
    "# Extract movie articles from wikipedia dump and create a csv file\n",
    "# %run -i ../tools/process_wiki_dump.py --dump_file enwiki-latest-pages-articles-multistream.xml.bz2 --index_file movie_index.txt --out_file ../download/movies.csv"
   ]
  },
  {
   "cell_type": "code",
   "execution_count": 13,
   "metadata": {},
   "outputs": [],
   "source": [
    "# read movies database\n",
    "movie_db = pd.read_csv('data/movies.csv').rename(columns=lambda x: x.strip().replace(\" \", \"\"))\n"
   ]
  },
  {
   "cell_type": "code",
   "execution_count": 14,
   "metadata": {},
   "outputs": [
    {
     "data": {
      "text/html": [
       "<div>\n",
       "<style scoped>\n",
       "    .dataframe tbody tr th:only-of-type {\n",
       "        vertical-align: middle;\n",
       "    }\n",
       "\n",
       "    .dataframe tbody tr th {\n",
       "        vertical-align: top;\n",
       "    }\n",
       "\n",
       "    .dataframe thead th {\n",
       "        text-align: right;\n",
       "    }\n",
       "</style>\n",
       "<table border=\"1\" class=\"dataframe\">\n",
       "  <thead>\n",
       "    <tr style=\"text-align: right;\">\n",
       "      <th></th>\n",
       "      <th>id</th>\n",
       "      <th>title</th>\n",
       "      <th>cast</th>\n",
       "      <th>plot</th>\n",
       "      <th>poster</th>\n",
       "    </tr>\n",
       "  </thead>\n",
       "  <tbody>\n",
       "    <tr>\n",
       "      <th>0</th>\n",
       "      <td>3947</td>\n",
       "      <td>Blue Velvet (film)</td>\n",
       "      <td>{{cast listing|&lt;!-- Cast is in credits order ...</td>\n",
       "      <td>&lt;!-- Per WP:FILMPLOT  plot summaries for featu...</td>\n",
       "      <td>https://upload.wikimedia.org/wikipedia/en/f/fd...</td>\n",
       "    </tr>\n",
       "    <tr>\n",
       "      <th>1</th>\n",
       "      <td>4231</td>\n",
       "      <td>Buffy the Vampire Slayer (film)</td>\n",
       "      <td>{{Cast listing|* [[Kristy Swanson]] as [[Buff...</td>\n",
       "      <td>[[Buffy Summers]] is a cheerleader at Hemery H...</td>\n",
       "      <td>https://upload.wikimedia.org/wikipedia/en/0/09...</td>\n",
       "    </tr>\n",
       "    <tr>\n",
       "      <th>2</th>\n",
       "      <td>4729</td>\n",
       "      <td>Batman &amp;amp; Robin (film)</td>\n",
       "      <td>{{div col}}* [[Arnold Schwarzenegger]] as [[V...</td>\n",
       "      <td>&lt;!-- Per WP:FILMPLOT  plot summaries for featu...</td>\n",
       "      <td>https://upload.wikimedia.org/wikipedia/en/3/37...</td>\n",
       "    </tr>\n",
       "    <tr>\n",
       "      <th>3</th>\n",
       "      <td>11585</td>\n",
       "      <td>Show Me Love (film)</td>\n",
       "      <td>* [[Alexandra Dahlström]] as Elin Olsson* [[R...</td>\n",
       "      <td>Two girls  Agnes and Elin  attend school in th...</td>\n",
       "      <td>https://upload.wikimedia.org/wikipedia/en/9/96...</td>\n",
       "    </tr>\n",
       "    <tr>\n",
       "      <th>4</th>\n",
       "      <td>19055</td>\n",
       "      <td>Manufacturing Consent (film)</td>\n",
       "      <td>None</td>\n",
       "      <td>The film presents and illustrates Chomsky and ...</td>\n",
       "      <td>https://upload.wikimedia.org/wikipedia/en/1/11...</td>\n",
       "    </tr>\n",
       "  </tbody>\n",
       "</table>\n",
       "</div>"
      ],
      "text/plain": [
       "      id                            title  \\\n",
       "0   3947               Blue Velvet (film)   \n",
       "1   4231  Buffy the Vampire Slayer (film)   \n",
       "2   4729        Batman &amp; Robin (film)   \n",
       "3  11585              Show Me Love (film)   \n",
       "4  19055     Manufacturing Consent (film)   \n",
       "\n",
       "                                                cast  \\\n",
       "0   {{cast listing|<!-- Cast is in credits order ...   \n",
       "1   {{Cast listing|* [[Kristy Swanson]] as [[Buff...   \n",
       "2   {{div col}}* [[Arnold Schwarzenegger]] as [[V...   \n",
       "3   * [[Alexandra Dahlström]] as Elin Olsson* [[R...   \n",
       "4                                               None   \n",
       "\n",
       "                                                plot  \\\n",
       "0  <!-- Per WP:FILMPLOT  plot summaries for featu...   \n",
       "1  [[Buffy Summers]] is a cheerleader at Hemery H...   \n",
       "2  <!-- Per WP:FILMPLOT  plot summaries for featu...   \n",
       "3  Two girls  Agnes and Elin  attend school in th...   \n",
       "4  The film presents and illustrates Chomsky and ...   \n",
       "\n",
       "                                              poster  \n",
       "0  https://upload.wikimedia.org/wikipedia/en/f/fd...  \n",
       "1  https://upload.wikimedia.org/wikipedia/en/0/09...  \n",
       "2  https://upload.wikimedia.org/wikipedia/en/3/37...  \n",
       "3  https://upload.wikimedia.org/wikipedia/en/9/96...  \n",
       "4  https://upload.wikimedia.org/wikipedia/en/1/11...  "
      ]
     },
     "execution_count": 14,
     "metadata": {},
     "output_type": "execute_result"
    }
   ],
   "source": [
    "# print sample of movies database\n",
    "movie_db.head()"
   ]
  },
  {
   "cell_type": "code",
   "execution_count": 15,
   "metadata": {},
   "outputs": [
    {
     "name": "stdout",
     "output_type": "stream",
     "text": [
      "<class 'pandas.core.frame.DataFrame'>\n",
      "RangeIndex: 15795 entries, 0 to 15794\n",
      "Data columns (total 5 columns):\n",
      " #   Column  Non-Null Count  Dtype \n",
      "---  ------  --------------  ----- \n",
      " 0   id      15795 non-null  int64 \n",
      " 1   title   15795 non-null  object\n",
      " 2   cast    15795 non-null  object\n",
      " 3   plot    15783 non-null  object\n",
      " 4   poster  15795 non-null  object\n",
      "dtypes: int64(1), object(4)\n",
      "memory usage: 617.1+ KB\n"
     ]
    }
   ],
   "source": [
    "# print information about movies database\n",
    "movie_db.info()"
   ]
  },
  {
   "cell_type": "code",
   "execution_count": 16,
   "metadata": {},
   "outputs": [],
   "source": [
    "def clean_column(text):\n",
    "    \"\"\"Removes Wikipedia markup, unnecessary tags, and extracts names.\"\"\"\n",
    "    if pd.isna(text) or text.lower() == \"none\":\n",
    "        return \"Unknown\"\n",
    "    \n",
    "    # Remove Wikipedia templates, comments, and unnecessary symbols\n",
    "    text = re.sub(r\"\\{\\{.*?\\}\\}\", \"\", text)  # Remove Wikipedia template tags\n",
    "    text = re.sub(r\"<!--.*?-->\", \"\", text)  # Remove HTML comments\n",
    "    text = re.sub(r\"\\[\\[(?:[^\\]|]*\\|)?([^\\]]+)\\]\\]\", r\"\\1\", text)  # Extract names from Wikipedia links\n",
    "    text = re.sub(r\"\\*\", \"\", text)  # Remove asterisks used for listing\n",
    "    \n",
    "    return text.strip()\n"
   ]
  },
  {
   "cell_type": "code",
   "execution_count": 17,
   "metadata": {},
   "outputs": [],
   "source": [
    "# movie_db.dropna(inplace=True)"
   ]
  },
  {
   "cell_type": "code",
   "execution_count": 18,
   "metadata": {},
   "outputs": [],
   "source": [
    "# Remove markup from cast and plot column\n",
    "movie_db[\"cast\"] = movie_db[\"cast\"].apply(clean_column)\n",
    "movie_db[\"plot\"] = movie_db[\"plot\"].apply(clean_column)\n"
   ]
  },
  {
   "cell_type": "code",
   "execution_count": 19,
   "metadata": {},
   "outputs": [
    {
     "data": {
      "text/html": [
       "<div>\n",
       "<style scoped>\n",
       "    .dataframe tbody tr th:only-of-type {\n",
       "        vertical-align: middle;\n",
       "    }\n",
       "\n",
       "    .dataframe tbody tr th {\n",
       "        vertical-align: top;\n",
       "    }\n",
       "\n",
       "    .dataframe thead th {\n",
       "        text-align: right;\n",
       "    }\n",
       "</style>\n",
       "<table border=\"1\" class=\"dataframe\">\n",
       "  <thead>\n",
       "    <tr style=\"text-align: right;\">\n",
       "      <th></th>\n",
       "      <th>id</th>\n",
       "      <th>title</th>\n",
       "      <th>cast</th>\n",
       "      <th>plot</th>\n",
       "      <th>poster</th>\n",
       "    </tr>\n",
       "  </thead>\n",
       "  <tbody>\n",
       "    <tr>\n",
       "      <th>0</th>\n",
       "      <td>3947</td>\n",
       "      <td>Blue Velvet (film)</td>\n",
       "      <td></td>\n",
       "      <td>College student Jeffrey Beaumont returns to hi...</td>\n",
       "      <td>https://upload.wikimedia.org/wikipedia/en/f/fd...</td>\n",
       "    </tr>\n",
       "    <tr>\n",
       "      <th>1</th>\n",
       "      <td>4231</td>\n",
       "      <td>Buffy the Vampire Slayer (film)</td>\n",
       "      <td>Appearing in uncredited roles are Ben Affleck ...</td>\n",
       "      <td>Buffy Summers is a cheerleader at Hemery High ...</td>\n",
       "      <td>https://upload.wikimedia.org/wikipedia/en/0/09...</td>\n",
       "    </tr>\n",
       "    <tr>\n",
       "      <th>2</th>\n",
       "      <td>4729</td>\n",
       "      <td>Batman &amp;amp; Robin (film)</td>\n",
       "      <td>Arnold Schwarzenegger as Dr. Victor Fries / Mr...</td>\n",
       "      <td>Batman and his partner  Robin  encounter a new...</td>\n",
       "      <td>https://upload.wikimedia.org/wikipedia/en/3/37...</td>\n",
       "    </tr>\n",
       "    <tr>\n",
       "      <th>3</th>\n",
       "      <td>11585</td>\n",
       "      <td>Show Me Love (film)</td>\n",
       "      <td>Alexandra Dahlström as Elin Olsson Rebecka Lil...</td>\n",
       "      <td>Two girls  Agnes and Elin  attend school in th...</td>\n",
       "      <td>https://upload.wikimedia.org/wikipedia/en/9/96...</td>\n",
       "    </tr>\n",
       "    <tr>\n",
       "      <th>4</th>\n",
       "      <td>19055</td>\n",
       "      <td>Manufacturing Consent (film)</td>\n",
       "      <td>None</td>\n",
       "      <td>The film presents and illustrates Chomsky and ...</td>\n",
       "      <td>https://upload.wikimedia.org/wikipedia/en/1/11...</td>\n",
       "    </tr>\n",
       "    <tr>\n",
       "      <th>...</th>\n",
       "      <td>...</td>\n",
       "      <td>...</td>\n",
       "      <td>...</td>\n",
       "      <td>...</td>\n",
       "      <td>...</td>\n",
       "    </tr>\n",
       "    <tr>\n",
       "      <th>15790</th>\n",
       "      <td>77243966</td>\n",
       "      <td>Take It to the Limit (film)</td>\n",
       "      <td>Jason BortzLeo Fitzpatrick John Marlo Gretel R...</td>\n",
       "      <td>A troubled teenager goes rock climbing.</td>\n",
       "      <td>https://upload.wikimedia.org/wikipedia/en/4/44...</td>\n",
       "    </tr>\n",
       "    <tr>\n",
       "      <th>15791</th>\n",
       "      <td>77245209</td>\n",
       "      <td>Firefight (film)</td>\n",
       "      <td>Nick MancusoStephen BaldwinSteve Bacic</td>\n",
       "      <td>Bank robbers get involved with a firestorm.</td>\n",
       "      <td>https://upload.wikimedia.org/wikipedia/en/4/44...</td>\n",
       "    </tr>\n",
       "    <tr>\n",
       "      <th>15792</th>\n",
       "      <td>77246399</td>\n",
       "      <td>Cloud (film)</td>\n",
       "      <td>Masaki Suda as Ryosuke Yoshii  an internet res...</td>\n",
       "      <td>Yoshii  a young man who resells goods online  ...</td>\n",
       "      <td>https://upload.wikimedia.org/wikipedia/en/4/44...</td>\n",
       "    </tr>\n",
       "    <tr>\n",
       "      <th>15793</th>\n",
       "      <td>77252576</td>\n",
       "      <td>National Gallery (film)</td>\n",
       "      <td>None</td>\n",
       "      <td>The film captures daily activity at the Nation...</td>\n",
       "      <td>https://upload.wikimedia.org/wikipedia/en/c/cc...</td>\n",
       "    </tr>\n",
       "    <tr>\n",
       "      <th>15794</th>\n",
       "      <td>77268420</td>\n",
       "      <td>Twice a Man (film)</td>\n",
       "      <td>Paul Kilb as Paul Albert Torgesen as the artis...</td>\n",
       "      <td>The film opens with a black screen and the sou...</td>\n",
       "      <td>https://upload.wikimedia.org/wikipedia/en/9/90...</td>\n",
       "    </tr>\n",
       "  </tbody>\n",
       "</table>\n",
       "<p>15795 rows × 5 columns</p>\n",
       "</div>"
      ],
      "text/plain": [
       "             id                            title  \\\n",
       "0          3947               Blue Velvet (film)   \n",
       "1          4231  Buffy the Vampire Slayer (film)   \n",
       "2          4729        Batman &amp; Robin (film)   \n",
       "3         11585              Show Me Love (film)   \n",
       "4         19055     Manufacturing Consent (film)   \n",
       "...         ...                              ...   \n",
       "15790  77243966      Take It to the Limit (film)   \n",
       "15791  77245209                 Firefight (film)   \n",
       "15792  77246399                     Cloud (film)   \n",
       "15793  77252576          National Gallery (film)   \n",
       "15794  77268420               Twice a Man (film)   \n",
       "\n",
       "                                                    cast  \\\n",
       "0                                                          \n",
       "1      Appearing in uncredited roles are Ben Affleck ...   \n",
       "2      Arnold Schwarzenegger as Dr. Victor Fries / Mr...   \n",
       "3      Alexandra Dahlström as Elin Olsson Rebecka Lil...   \n",
       "4                                                   None   \n",
       "...                                                  ...   \n",
       "15790  Jason BortzLeo Fitzpatrick John Marlo Gretel R...   \n",
       "15791             Nick MancusoStephen BaldwinSteve Bacic   \n",
       "15792  Masaki Suda as Ryosuke Yoshii  an internet res...   \n",
       "15793                                               None   \n",
       "15794  Paul Kilb as Paul Albert Torgesen as the artis...   \n",
       "\n",
       "                                                    plot  \\\n",
       "0      College student Jeffrey Beaumont returns to hi...   \n",
       "1      Buffy Summers is a cheerleader at Hemery High ...   \n",
       "2      Batman and his partner  Robin  encounter a new...   \n",
       "3      Two girls  Agnes and Elin  attend school in th...   \n",
       "4      The film presents and illustrates Chomsky and ...   \n",
       "...                                                  ...   \n",
       "15790            A troubled teenager goes rock climbing.   \n",
       "15791        Bank robbers get involved with a firestorm.   \n",
       "15792  Yoshii  a young man who resells goods online  ...   \n",
       "15793  The film captures daily activity at the Nation...   \n",
       "15794  The film opens with a black screen and the sou...   \n",
       "\n",
       "                                                  poster  \n",
       "0      https://upload.wikimedia.org/wikipedia/en/f/fd...  \n",
       "1      https://upload.wikimedia.org/wikipedia/en/0/09...  \n",
       "2      https://upload.wikimedia.org/wikipedia/en/3/37...  \n",
       "3      https://upload.wikimedia.org/wikipedia/en/9/96...  \n",
       "4      https://upload.wikimedia.org/wikipedia/en/1/11...  \n",
       "...                                                  ...  \n",
       "15790  https://upload.wikimedia.org/wikipedia/en/4/44...  \n",
       "15791  https://upload.wikimedia.org/wikipedia/en/4/44...  \n",
       "15792  https://upload.wikimedia.org/wikipedia/en/4/44...  \n",
       "15793  https://upload.wikimedia.org/wikipedia/en/c/cc...  \n",
       "15794  https://upload.wikimedia.org/wikipedia/en/9/90...  \n",
       "\n",
       "[15795 rows x 5 columns]"
      ]
     },
     "execution_count": 19,
     "metadata": {},
     "output_type": "execute_result"
    }
   ],
   "source": [
    "# Print clean data\n",
    "movie_db"
   ]
  },
  {
   "cell_type": "code",
   "execution_count": 20,
   "metadata": {},
   "outputs": [
    {
     "name": "stdout",
     "output_type": "stream",
     "text": [
      "Appearing in uncredited roles are Ben Affleck as a basketball player  Ricki Lake as Charlotte  Seth Green as a vampire  and Alexis Arquette as the vampire DJ.\n"
     ]
    }
   ],
   "source": [
    "# print cast in sample row\n",
    "print(movie_db[\"cast\"].iloc[1])"
   ]
  },
  {
   "cell_type": "code",
   "execution_count": 21,
   "metadata": {},
   "outputs": [],
   "source": [
    "def extract_actors(text):\n",
    "    \"\"\"Extract actors from the cast column.\"\"\"\n",
    "    if pd.isna(text) or text.lower() == \"none\" or text.lower() == \"unknown\":\n",
    "        return \"\"\n",
    "    actors = \", \".join(re.findall(r\"\\b([A-Z][a-z]+(?:\\s[A-Z][a-z]+)*)\\s+as\", text))\n",
    "    if actors == \"\":\n",
    "        return text\n",
    "    else:\n",
    "        return actors"
   ]
  },
  {
   "cell_type": "code",
   "execution_count": 22,
   "metadata": {},
   "outputs": [],
   "source": [
    "# Get the actors list\n",
    "movie_db[\"actors\"] = movie_db[\"cast\"].apply(extract_actors)"
   ]
  },
  {
   "cell_type": "code",
   "execution_count": 23,
   "metadata": {},
   "outputs": [
    {
     "data": {
      "text/html": [
       "<div>\n",
       "<style scoped>\n",
       "    .dataframe tbody tr th:only-of-type {\n",
       "        vertical-align: middle;\n",
       "    }\n",
       "\n",
       "    .dataframe tbody tr th {\n",
       "        vertical-align: top;\n",
       "    }\n",
       "\n",
       "    .dataframe thead th {\n",
       "        text-align: right;\n",
       "    }\n",
       "</style>\n",
       "<table border=\"1\" class=\"dataframe\">\n",
       "  <thead>\n",
       "    <tr style=\"text-align: right;\">\n",
       "      <th></th>\n",
       "      <th>id</th>\n",
       "      <th>title</th>\n",
       "      <th>cast</th>\n",
       "      <th>plot</th>\n",
       "      <th>poster</th>\n",
       "      <th>actors</th>\n",
       "    </tr>\n",
       "  </thead>\n",
       "  <tbody>\n",
       "    <tr>\n",
       "      <th>0</th>\n",
       "      <td>3947</td>\n",
       "      <td>Blue Velvet (film)</td>\n",
       "      <td></td>\n",
       "      <td>College student Jeffrey Beaumont returns to hi...</td>\n",
       "      <td>https://upload.wikimedia.org/wikipedia/en/f/fd...</td>\n",
       "      <td></td>\n",
       "    </tr>\n",
       "    <tr>\n",
       "      <th>1</th>\n",
       "      <td>4231</td>\n",
       "      <td>Buffy the Vampire Slayer (film)</td>\n",
       "      <td>Appearing in uncredited roles are Ben Affleck ...</td>\n",
       "      <td>Buffy Summers is a cheerleader at Hemery High ...</td>\n",
       "      <td>https://upload.wikimedia.org/wikipedia/en/0/09...</td>\n",
       "      <td>Ben Affleck, Ricki Lake, Seth Green, Alexis Ar...</td>\n",
       "    </tr>\n",
       "    <tr>\n",
       "      <th>2</th>\n",
       "      <td>4729</td>\n",
       "      <td>Batman &amp;amp; Robin (film)</td>\n",
       "      <td>Arnold Schwarzenegger as Dr. Victor Fries / Mr...</td>\n",
       "      <td>Batman and his partner  Robin  encounter a new...</td>\n",
       "      <td>https://upload.wikimedia.org/wikipedia/en/3/37...</td>\n",
       "      <td>Arnold Schwarzenegger, George Clooney, Eric Ll...</td>\n",
       "    </tr>\n",
       "    <tr>\n",
       "      <th>3</th>\n",
       "      <td>11585</td>\n",
       "      <td>Show Me Love (film)</td>\n",
       "      <td>Alexandra Dahlström as Elin Olsson Rebecka Lil...</td>\n",
       "      <td>Two girls  Agnes and Elin  attend school in th...</td>\n",
       "      <td>https://upload.wikimedia.org/wikipedia/en/9/96...</td>\n",
       "      <td>Elin Olsson Rebecka Liljeberg, Agnes Ahlberg E...</td>\n",
       "    </tr>\n",
       "    <tr>\n",
       "      <th>4</th>\n",
       "      <td>19055</td>\n",
       "      <td>Manufacturing Consent (film)</td>\n",
       "      <td>None</td>\n",
       "      <td>The film presents and illustrates Chomsky and ...</td>\n",
       "      <td>https://upload.wikimedia.org/wikipedia/en/1/11...</td>\n",
       "      <td></td>\n",
       "    </tr>\n",
       "    <tr>\n",
       "      <th>...</th>\n",
       "      <td>...</td>\n",
       "      <td>...</td>\n",
       "      <td>...</td>\n",
       "      <td>...</td>\n",
       "      <td>...</td>\n",
       "      <td>...</td>\n",
       "    </tr>\n",
       "    <tr>\n",
       "      <th>15790</th>\n",
       "      <td>77243966</td>\n",
       "      <td>Take It to the Limit (film)</td>\n",
       "      <td>Jason BortzLeo Fitzpatrick John Marlo Gretel R...</td>\n",
       "      <td>A troubled teenager goes rock climbing.</td>\n",
       "      <td>https://upload.wikimedia.org/wikipedia/en/4/44...</td>\n",
       "      <td>Jason BortzLeo Fitzpatrick John Marlo Gretel R...</td>\n",
       "    </tr>\n",
       "    <tr>\n",
       "      <th>15791</th>\n",
       "      <td>77245209</td>\n",
       "      <td>Firefight (film)</td>\n",
       "      <td>Nick MancusoStephen BaldwinSteve Bacic</td>\n",
       "      <td>Bank robbers get involved with a firestorm.</td>\n",
       "      <td>https://upload.wikimedia.org/wikipedia/en/4/44...</td>\n",
       "      <td>Nick MancusoStephen BaldwinSteve Bacic</td>\n",
       "    </tr>\n",
       "    <tr>\n",
       "      <th>15792</th>\n",
       "      <td>77246399</td>\n",
       "      <td>Cloud (film)</td>\n",
       "      <td>Masaki Suda as Ryosuke Yoshii  an internet res...</td>\n",
       "      <td>Yoshii  a young man who resells goods online  ...</td>\n",
       "      <td>https://upload.wikimedia.org/wikipedia/en/4/44...</td>\n",
       "      <td>Masaki Suda, Kotone Furukawa, Daiken Okudaira,...</td>\n",
       "    </tr>\n",
       "    <tr>\n",
       "      <th>15793</th>\n",
       "      <td>77252576</td>\n",
       "      <td>National Gallery (film)</td>\n",
       "      <td>None</td>\n",
       "      <td>The film captures daily activity at the Nation...</td>\n",
       "      <td>https://upload.wikimedia.org/wikipedia/en/c/cc...</td>\n",
       "      <td></td>\n",
       "    </tr>\n",
       "    <tr>\n",
       "      <th>15794</th>\n",
       "      <td>77268420</td>\n",
       "      <td>Twice a Man (film)</td>\n",
       "      <td>Paul Kilb as Paul Albert Torgesen as the artis...</td>\n",
       "      <td>The film opens with a black screen and the sou...</td>\n",
       "      <td>https://upload.wikimedia.org/wikipedia/en/9/90...</td>\n",
       "      <td>Paul Kilb, Paul Albert Torgesen, Olympia Dukak...</td>\n",
       "    </tr>\n",
       "  </tbody>\n",
       "</table>\n",
       "<p>15795 rows × 6 columns</p>\n",
       "</div>"
      ],
      "text/plain": [
       "             id                            title  \\\n",
       "0          3947               Blue Velvet (film)   \n",
       "1          4231  Buffy the Vampire Slayer (film)   \n",
       "2          4729        Batman &amp; Robin (film)   \n",
       "3         11585              Show Me Love (film)   \n",
       "4         19055     Manufacturing Consent (film)   \n",
       "...         ...                              ...   \n",
       "15790  77243966      Take It to the Limit (film)   \n",
       "15791  77245209                 Firefight (film)   \n",
       "15792  77246399                     Cloud (film)   \n",
       "15793  77252576          National Gallery (film)   \n",
       "15794  77268420               Twice a Man (film)   \n",
       "\n",
       "                                                    cast  \\\n",
       "0                                                          \n",
       "1      Appearing in uncredited roles are Ben Affleck ...   \n",
       "2      Arnold Schwarzenegger as Dr. Victor Fries / Mr...   \n",
       "3      Alexandra Dahlström as Elin Olsson Rebecka Lil...   \n",
       "4                                                   None   \n",
       "...                                                  ...   \n",
       "15790  Jason BortzLeo Fitzpatrick John Marlo Gretel R...   \n",
       "15791             Nick MancusoStephen BaldwinSteve Bacic   \n",
       "15792  Masaki Suda as Ryosuke Yoshii  an internet res...   \n",
       "15793                                               None   \n",
       "15794  Paul Kilb as Paul Albert Torgesen as the artis...   \n",
       "\n",
       "                                                    plot  \\\n",
       "0      College student Jeffrey Beaumont returns to hi...   \n",
       "1      Buffy Summers is a cheerleader at Hemery High ...   \n",
       "2      Batman and his partner  Robin  encounter a new...   \n",
       "3      Two girls  Agnes and Elin  attend school in th...   \n",
       "4      The film presents and illustrates Chomsky and ...   \n",
       "...                                                  ...   \n",
       "15790            A troubled teenager goes rock climbing.   \n",
       "15791        Bank robbers get involved with a firestorm.   \n",
       "15792  Yoshii  a young man who resells goods online  ...   \n",
       "15793  The film captures daily activity at the Nation...   \n",
       "15794  The film opens with a black screen and the sou...   \n",
       "\n",
       "                                                  poster  \\\n",
       "0      https://upload.wikimedia.org/wikipedia/en/f/fd...   \n",
       "1      https://upload.wikimedia.org/wikipedia/en/0/09...   \n",
       "2      https://upload.wikimedia.org/wikipedia/en/3/37...   \n",
       "3      https://upload.wikimedia.org/wikipedia/en/9/96...   \n",
       "4      https://upload.wikimedia.org/wikipedia/en/1/11...   \n",
       "...                                                  ...   \n",
       "15790  https://upload.wikimedia.org/wikipedia/en/4/44...   \n",
       "15791  https://upload.wikimedia.org/wikipedia/en/4/44...   \n",
       "15792  https://upload.wikimedia.org/wikipedia/en/4/44...   \n",
       "15793  https://upload.wikimedia.org/wikipedia/en/c/cc...   \n",
       "15794  https://upload.wikimedia.org/wikipedia/en/9/90...   \n",
       "\n",
       "                                                  actors  \n",
       "0                                                         \n",
       "1      Ben Affleck, Ricki Lake, Seth Green, Alexis Ar...  \n",
       "2      Arnold Schwarzenegger, George Clooney, Eric Ll...  \n",
       "3      Elin Olsson Rebecka Liljeberg, Agnes Ahlberg E...  \n",
       "4                                                         \n",
       "...                                                  ...  \n",
       "15790  Jason BortzLeo Fitzpatrick John Marlo Gretel R...  \n",
       "15791             Nick MancusoStephen BaldwinSteve Bacic  \n",
       "15792  Masaki Suda, Kotone Furukawa, Daiken Okudaira,...  \n",
       "15793                                                     \n",
       "15794  Paul Kilb, Paul Albert Torgesen, Olympia Dukak...  \n",
       "\n",
       "[15795 rows x 6 columns]"
      ]
     },
     "execution_count": 23,
     "metadata": {},
     "output_type": "execute_result"
    }
   ],
   "source": [
    "movie_db"
   ]
  },
  {
   "cell_type": "code",
   "execution_count": 17,
   "metadata": {},
   "outputs": [],
   "source": [
    "# Experiment 1: TF-IDF Vectorization\n",
    "from sklearn.feature_extraction.text import TfidfVectorizer\n",
    "from sklearn.metrics.pairwise import cosine_similarity\n",
    "import numpy as np"
   ]
  },
  {
   "cell_type": "code",
   "execution_count": 18,
   "metadata": {},
   "outputs": [],
   "source": [
    "# Step 1: Initialize TF-IDF Vectorizer\n",
    "tfidf = TfidfVectorizer(\n",
    "    stop_words='english',  # Remove common English words (e.g., \"the\", \"a\")\n",
    "    max_df=0.85,           # Ignore terms that appear in >85% of documents\n",
    "    min_df=1,              # Include terms that appear in at least 1 document\n",
    ")"
   ]
  },
  {
   "cell_type": "code",
   "execution_count": 25,
   "metadata": {},
   "outputs": [],
   "source": [
    "# Step 2: Transform movie plots into TF-IDF matrix\n",
    "tfidf_matrix = tfidf.fit_transform(movie_db['plot'])"
   ]
  },
  {
   "cell_type": "code",
   "execution_count": 26,
   "metadata": {},
   "outputs": [],
   "source": [
    "# Step 3: Compute cosine similarity matrix\n",
    "cosine_sim = cosine_similarity(tfidf_matrix, tfidf_matrix)"
   ]
  },
  {
   "cell_type": "code",
   "execution_count": 27,
   "metadata": {},
   "outputs": [],
   "source": [
    "# Step 4: Function to get recommendations\n",
    "def get_recommendations(title, cosine_sim=cosine_sim, movies=movie_db):\n",
    "    # Get the index of the movie that matches the title\n",
    "    idx = movie_db.index[movie_db['title'].str.contains(rf\"\\b{title}\\b\")].to_list()[0]\n",
    "    \n",
    "    # Get similarity scores for all movies with the given movie\n",
    "    sim_scores = list(enumerate(cosine_sim[idx]))\n",
    "    \n",
    "    # Sort movies based on similarity scores (descending order)\n",
    "    sim_scores = sorted(sim_scores, key=lambda x: x[1], reverse=True)\n",
    "    \n",
    "    # Get the top 3 most similar movies (excluding the movie itself)\n",
    "    sim_scores = sim_scores[1:6]\n",
    "    \n",
    "    # Get movie indices\n",
    "    movie_indices = [i[0] for i in sim_scores]\n",
    "    \n",
    "    # Return the titles of recommended movies\n",
    "    return movie_db['title'].iloc[movie_indices]"
   ]
  },
  {
   "cell_type": "code",
   "execution_count": 28,
   "metadata": {},
   "outputs": [
    {
     "name": "stdout",
     "output_type": "stream",
     "text": [
      "Recommendations for 'Titanic':\n",
      "6408                   Titanic II (film)\n",
      "15682                  Unsinkable (film)\n",
      "1276                     Six Pack (film)\n",
      "4080              Streets of Gold (film)\n",
      "8435     The Shield and the Sword (film)\n",
      "Name: title, dtype: object\n"
     ]
    }
   ],
   "source": [
    "# Test the recommendation system\n",
    "movie_title = 'Titanic'\n",
    "recommendations = get_recommendations(movie_title)\n",
    "print(f\"Recommendations for '{movie_title}':\")\n",
    "print(recommendations)"
   ]
  },
  {
   "cell_type": "code",
   "execution_count": 30,
   "metadata": {},
   "outputs": [],
   "source": [
    "# Experiment 2: Doc2Vec Embedding\n",
    "from gensim.models.doc2vec import Doc2Vec, TaggedDocument\n",
    "from nltk.tokenize import word_tokenize\n",
    "from gensim.utils import simple_preprocess\n",
    "\n",
    "# Step 1: Tokenize movie plots\n",
    "tagged_documents = [\n",
    "    TaggedDocument(\n",
    "        words=simple_preprocess(plot),  # Tokenize and preprocess (lowercase, remove punctuation)\n",
    "        tags=[str(i)]                   # Unique tag for each document (e.g., '0', '1', ...)\n",
    "    )\n",
    "    for i, plot in enumerate(movie_db[\"plot\"])\n",
    "]\n",
    "# Step 2: Train Doc2Vec model\n",
    "max_epochs = 10\n",
    "vec_size = 20\n",
    "alpha = 0.025\n",
    "\n",
    "model = Doc2Vec(vector_size=vec_size,\n",
    "                alpha=alpha, \n",
    "                min_alpha=0.00025,\n",
    "                min_count=1,\n",
    "                dm =1)\n",
    "\n",
    "model.build_vocab(tagged_documents)\n",
    "\n",
    "for epoch in range(max_epochs):\n",
    "    model.train(tagged_documents,\n",
    "                total_examples=model.corpus_count,\n",
    "                epochs=model.epochs)\n",
    "    # decrease the learning rate\n",
    "    model.alpha -= 0.0002\n",
    "    # fix the learning rate, no decay\n",
    "    model.min_alpha = model.alpha\n"
   ]
  },
  {
   "cell_type": "code",
   "execution_count": 31,
   "metadata": {},
   "outputs": [
    {
     "name": "stdout",
     "output_type": "stream",
     "text": [
      "Model saved to 'doc2vec_movie_model'\n"
     ]
    }
   ],
   "source": [
    "# Step 3: Save the model to disk\n",
    "model.save(\"models/doc2vec_movie_model\")\n",
    "print(\"Model saved to 'doc2vec_movie_model'\")"
   ]
  },
  {
   "cell_type": "code",
   "execution_count": 125,
   "metadata": {},
   "outputs": [
    {
     "name": "stderr",
     "output_type": "stream",
     "text": [
      "[nltk_data] Downloading package punkt to\n",
      "[nltk_data]     /Users/mahadevgaonkar/nltk_data...\n",
      "[nltk_data]   Package punkt is already up-to-date!\n"
     ]
    }
   ],
   "source": [
    "# Load the model from disk for future use\n",
    "from gensim.models.doc2vec import Doc2Vec\n",
    "from nltk.tokenize import word_tokenize\n",
    "import nltk\n",
    "from gensim.utils import simple_preprocess\n",
    "from sklearn.metrics.pairwise import cosine_similarity\n",
    "import numpy as np\n",
    "nltk.download('punkt')\n",
    "\n",
    "model = Doc2Vec.load(\"models/doc2vec_movie_model\")"
   ]
  },
  {
   "cell_type": "code",
   "execution_count": 126,
   "metadata": {},
   "outputs": [],
   "source": [
    "# Step 4: Function to get recommendations\n",
    "def get_recommendations_doc2vec(title, model, movies=movie_db, top_n=5):\n",
    "    # Get the index of the movie that matches the title\n",
    "    print(\"matching title\", title)\n",
    "    idx = movie_db[movie_db['title'].str.contains(rf\"\\b{title}\\b\", case=False, na=False, regex=True)].index[0]\n",
    "    print(\"idx\", idx)\n",
    "    \n",
    "    plot_text = movie_db['plot'].iloc[idx].lower()\n",
    "    print(\"title = \", movie_db.iloc[idx]['title'])\n",
    "    print(\"plot = \", plot_text)\n",
    "    \n",
    "    tokenized_text = simple_preprocess(plot_text)\n",
    "    text_vector = model.infer_vector(tokenized_text)\n",
    "    \n",
    "    # Compute cosine similarity\n",
    "    similar_movies = cosine_similarity([text_vector], model.dv.vectors)\n",
    "\n",
    "    # Get top similar documents\n",
    "    similar_doc_indices = np.argsort(similar_movies[0])[::-1][:top_n]\n",
    "    print(\"similar_doc_indices\", similar_doc_indices)\n",
    "        \n",
    "    # Return the titles of recommended movies\n",
    "    return movie_db['title'].iloc[similar_doc_indices]\n"
   ]
  },
  {
   "cell_type": "code",
   "execution_count": 138,
   "metadata": {},
   "outputs": [
    {
     "name": "stdout",
     "output_type": "stream",
     "text": [
      "matching title Aliens\n",
      "idx 200\n",
      "title =  Aliens (film)\n",
      "plot =  ellen ripley has been in stasis for 57 years aboard an escape shuttle after destroying her ship  the ''nostromo''  to escape an alien creature that slaughtered the rest of the crew. she is rescued and debriefed by her employers at the weyland-yutani corporation  who are skeptical about her claim of alien eggs in a derelict ship on the exomoon lv-426  since it is now the site of a terraforming colony.after contact is lost with the colony  weyland-yutani representative carter burke and colonial marine lieutenant gorman ask ripley to accompany them to investigate. still traumatized by her alien encounter  she agrees on the condition that they exterminate the creatures. ripley is introduced to the colonial marines on the spaceship ''sulaco'' but is distrustful of their android  bishop  because the android aboard the ''nostromo'' betrayed its crew to protect the alien on company orders.a dropship delivers the expedition to the surface of lv-426  where they find the battle-ravaged colony and two live alien facehuggers in containment tanks  but no bodies or colonists except for a traumatized young girl nicknamed newt. the team locates the colonists beneath the fusion-powered atmosphere processing station and heads to their location  descending into corridors covered in alien secretions. at the station center  the marines find opened eggs and dead facehuggers alongside the cocooned colonists now serving as incubators for the creatures' offspring. the marines kill an infant alien after it bursts from a colonist's chest  rousing several adult aliens who ambush the marines and kill or capture many of them. when the inexperienced gorman panics  ripley assumes command  takes control of their armored personnel carrier  and rams the nest to rescue corporal dwayne hicks and privates hudson and vasquez. hicks orders the dropship to recover the survivors  but a stowaway alien kills the pilots  and it crashes into the station. almost out of ammunition and resources  the survivors barricade themselves inside the colony.ripley discovers that burke ordered the colonists to investigate the derelict spaceship containing the alien eggs  intending to profit by recovering them for biological weapon research. before she can expose him  bishop informs the group that the dropship crash damaged the power-plant cooling system and the plant will soon overheat and explode  destroying the colony. he volunteers to travel to the colony transmitter and remotely pilot the ''sulaco''s remaining dropship to the surface.after falling asleep in the medical laboratory  ripley and newt awaken to find themselves trapped with the two released facehuggers. ripley triggers a fire alarm to alert the marines  who rescue them and kill the creatures. she accuses burke of releasing the facehuggers to implant her and newt with alien embryos  allowing him to smuggle them through earth's quarantine. the power is suddenly cut  and aliens attack through the ceiling. in the ensuing firefight  the aliens kill burke  subdue hudson  and injure hicks; the cornered gorman and vasquez sacrifice themselves to avoid capture. newt is separated from ripley and taken by the creatures. ripley brings hicks to bishop in the second dropship  but she refuses to abandon newt and arms herself before descending into the processing station hive alone to rescue her. during their escape  they encounter the alien queen surrounded by dozens of eggs  and when one begins to open  ripley uses her weapons to destroy them all and the queen's ovipositor. pursued by the enraged queen  ripley and newt join bishop and hicks on the dropship and escape moments before the station explodes  consuming the colony in a nuclear blast.aboard the ''sulaco''  the group is ambushed by the queen  who stowed away in the dropship's landing gear. the queen tears bishop in half and advances on newt  but ripley fights the creature with an exosuit cargo loader and expels it through an airlock into space while the damaged bishop keeps newt safe. ripley  newt  hicks  and bishop enter hypersleep for their return trip to earth.\n",
      "similar_doc_indices [ 200 8837 5638  156  384]\n",
      "Recommendations for 'Aliens':\n",
      "200             Aliens (film)\n",
      "8837    Mortal Engines (film)\n",
      "5638             Alien (film)\n",
      "156            Starman (film)\n",
      "384        Lake Placid (film)\n",
      "Name: title, dtype: object\n"
     ]
    }
   ],
   "source": [
    "# Test the recommendation system\n",
    "movie_title = 'Aliens'\n",
    "recommendations = get_recommendations_doc2vec(movie_title, model, movie_db, 5)\n",
    "print(f\"Recommendations for '{movie_title}':\")\n",
    "print(recommendations)"
   ]
  },
  {
   "cell_type": "code",
   "execution_count": 134,
   "metadata": {},
   "outputs": [],
   "source": [
    "def get_recommendations_doc2vec_from_plot(plot_text, model, movies=movie_db, top_n=5):    \n",
    "    tokenized_text = simple_preprocess(plot_text)\n",
    "    text_vector = model.infer_vector(tokenized_text)\n",
    "    \n",
    "    # Compute cosine similarity\n",
    "    similar_movies = cosine_similarity([text_vector], model.dv.vectors)\n",
    "\n",
    "    # Get top similar documents\n",
    "    similar_doc_indices = np.argsort(similar_movies[0])[::-1][:top_n]\n",
    "    print(\"similar_doc_indices\", similar_doc_indices)\n",
    "        \n",
    "    # Return the titles of recommended movies\n",
    "    return movie_db['title'].iloc[similar_doc_indices]"
   ]
  },
  {
   "cell_type": "code",
   "execution_count": 135,
   "metadata": {},
   "outputs": [
    {
     "name": "stdout",
     "output_type": "stream",
     "text": [
      "similar_doc_indices [ 5993 13403 13792 15746 15208  1121 13380  5878 15550 15734]\n",
      "Recommendations:\n",
      "5993              Red Velvet (film)\n",
      "13403           High Fashion (film)\n",
      "13792         The Ringmaster (film)\n",
      "15746                 I Need (film)\n",
      "15208                   Saho (film)\n",
      "1121              White Skin (film)\n",
      "13380                  Artik (film)\n",
      "5878                   Lalon (film)\n",
      "15550    DraftVeni Vidi Vici (film)\n",
      "15734          DraftBabygirl (film)\n",
      "Name: title, dtype: object\n"
     ]
    }
   ],
   "source": [
    "# Test the recommendation system - plot text\n",
    "from gensim.utils import simple_preprocess\n",
    "\n",
    "plot_text = \"I like movies with mind-bending plots and futuristic themes.\"\n",
    "recommendations = get_recommendations_doc2vec_from_plot(plot_text, model, movie_db, 10)\n",
    "print(f\"Recommendations:\")\n",
    "print(recommendations)"
   ]
  },
  {
   "cell_type": "code",
   "execution_count": 136,
   "metadata": {},
   "outputs": [
    {
     "data": {
      "image/png": "[encoded data removed]",
      "text/plain": [
       "<Figure size 1000x1000 with 1 Axes>"
      ]
     },
     "metadata": {},
     "output_type": "display_data"
    }
   ],
   "source": [
    "# Principle Component Analysis for visualiazation\n",
    "from sklearn.decomposition import PCA\n",
    "import matplotlib.pyplot as plt\n",
    "import seaborn as sns\n",
    "import random\n",
    "\n",
    "# Step 1: Reduce dimensions using PCA\n",
    "pca = PCA(n_components=2)\n",
    "reduced_vectors = pca.fit_transform(model.dv.vectors)\n",
    "\n",
    "# Step 2: Create a DataFrame for visualization\n",
    "df = pd.DataFrame(reduced_vectors, columns=['x', 'y'])\n",
    "df['title'] = movie_db['title']\n",
    "\n",
    "# Step 3: Plot random 50 movie data points\n",
    "df_sample = df.sample(50, random_state=42)\n",
    "plt.figure(figsize=(10, 10))\n",
    "sns.scatterplot(data=df_sample, x='x', y='y')\n",
    "\n",
    "for i in df_sample.index:\n",
    "    plt.text(df['x'][i], df['y'][i], df['title'][i], fontsize=9)\n",
    "plt.title('PCA of Movie Plots')\n",
    "plt.show()"
   ]
  },
  {
   "cell_type": "code",
   "execution_count": 115,
   "metadata": {},
   "outputs": [
    {
     "data": {
      "application/vnd.jupyter.widget-view+json": {
       "model_id": "09d0fca095cf4b519174743be4e99ef9",
       "version_major": 2,
       "version_minor": 0
      },
      "text/plain": [
       "tokenizer_config.json:   0%|          | 0.00/48.0 [00:00<?, ?B/s]"
      ]
     },
     "metadata": {},
     "output_type": "display_data"
    },
    {
     "data": {
      "application/vnd.jupyter.widget-view+json": {
       "model_id": "e3acc6ac40af4d9a90a6dce7f2105104",
       "version_major": 2,
       "version_minor": 0
      },
      "text/plain": [
       "vocab.txt:   0%|          | 0.00/232k [00:00<?, ?B/s]"
      ]
     },
     "metadata": {},
     "output_type": "display_data"
    },
    {
     "data": {
      "application/vnd.jupyter.widget-view+json": {
       "model_id": "437fb53a09a2437881358c67a2eff684",
       "version_major": 2,
       "version_minor": 0
      },
      "text/plain": [
       "tokenizer.json:   0%|          | 0.00/466k [00:00<?, ?B/s]"
      ]
     },
     "metadata": {},
     "output_type": "display_data"
    },
    {
     "data": {
      "application/vnd.jupyter.widget-view+json": {
       "model_id": "878738336d5b49e9a985f7e57d51b4e7",
       "version_major": 2,
       "version_minor": 0
      },
      "text/plain": [
       "config.json:   0%|          | 0.00/483 [00:00<?, ?B/s]"
      ]
     },
     "metadata": {},
     "output_type": "display_data"
    },
    {
     "data": {
      "application/vnd.jupyter.widget-view+json": {
       "model_id": "4dbeb983e30e40a5ba9d8e47ee0db9ef",
       "version_major": 2,
       "version_minor": 0
      },
      "text/plain": [
       "model.safetensors:   0%|          | 0.00/268M [00:00<?, ?B/s]"
      ]
     },
     "metadata": {},
     "output_type": "display_data"
    }
   ],
   "source": [
    "# Experiment 2A: Large language model (LLM) embeddings - BERT\n",
    "# Step 1: Load pre-trained BERT model\n",
    "\n",
    "from transformers import BertTokenizer, BertModel\n",
    "from transformers import DistilBertTokenizer, DistilBertModel\n",
    "import torch\n",
    "\n",
    "MODEL_NAME = 'distilbert-base-uncased'\n",
    "\n",
    "# Load pre-trained model tokenizer\n",
    "tokenizer = DistilBertTokenizer.from_pretrained(MODEL_NAME)\n",
    "model = DistilBertModel.from_pretrained(MODEL_NAME)\n",
    "\n",
    "# Function to get BERT embeddings   \n",
    "def get_embedding_bert(text):\n",
    "    inputs = tokenizer(text, return_tensors='pt', truncation=True, padding=True, max_length=128)\n",
    "    with torch.no_grad():\n",
    "        outputs = model(**inputs)\n",
    "    # Use the [CLS] token embedding (first token) as the sentence representation\n",
    "    return outputs.last_hidden_state[:, 0, :].squeeze().numpy()\n"
   ]
  },
  {
   "cell_type": "code",
   "execution_count": 120,
   "metadata": {},
   "outputs": [
    {
     "name": "stdout",
     "output_type": "stream",
     "text": [
      "Generating embeddings for all movies...\n"
     ]
    },
    {
     "data": {
      "application/vnd.jupyter.widget-view+json": {
       "model_id": "ba86ff9bd51947a2884f109d87dca812",
       "version_major": 2,
       "version_minor": 0
      },
      "text/plain": [
       "  0%|          | 0/15795 [00:00<?, ?it/s]"
      ]
     },
     "metadata": {},
     "output_type": "display_data"
    },
    {
     "name": "stdout",
     "output_type": "stream",
     "text": [
      "Embeddings generated for all movies.\n",
      "Building index for embeddings...\n",
      "Index built.\n",
      "Embeddings index saved.\n"
     ]
    }
   ],
   "source": [
    "# Step 2 : Get BERT embeddings for movie plots\n",
    "import faiss\n",
    "import os\n",
    "from tqdm.notebook import tqdm\n",
    "import numpy as np\n",
    "\n",
    "tqdm.pandas()\n",
    "if os.path.exists('data/faiss_movie_index.distilbert'):\n",
    "    index = faiss.read_index('data/faiss_movie_index.distilbert')\n",
    "    print(\"Embeddings index loaded.\")\n",
    "else:\n",
    "    print(\"Generating embeddings for all movies...\")\n",
    "    movie_db['embedding'] = movie_db['plot'].progress_apply(get_embedding_bert)\n",
    "    print(\"Embeddings generated for all movies.\")\n",
    "\n",
    "    print(\"Building index for embeddings...\")\n",
    "    embeddings = np.stack(movie_db['embedding'].values).astype('float32')  # FAISS expects float32\n",
    "    index = faiss.IndexFlatL2(embeddings.shape[1])  # 768 is the dimension of BERT embeddings\n",
    "    index.add(embeddings)\n",
    "    print(\"Index built.\")\n",
    "    faiss.write_index(index, \"data/faiss_movie_index.distilbert\")\n",
    "    print(\"Embeddings index saved.\")"
   ]
  },
  {
   "cell_type": "code",
   "execution_count": 119,
   "metadata": {},
   "outputs": [
    {
     "name": "stdout",
     "output_type": "stream",
     "text": [
      "                             title  \\\n",
      "12101        Massacre River (film)   \n",
      "11100              Outbound (film)   \n",
      "15499   Misery Loves Comedy (film)   \n",
      "11822              Sawbones (film)   \n",
      "3980        Knave of Hearts (film)   \n",
      "11963          Mapplethorpe (film)   \n",
      "2745   Nothing Else Matters (film)   \n",
      "2106                Entropy (film)   \n",
      "8395                 Acteón (film)   \n",
      "12159     Woke Up Like This (film)   \n",
      "\n",
      "                                                    plot  \n",
      "12101  This film is a tragic love story disguised as ...  \n",
      "11100  A drama about a woman who seems able to overco...  \n",
      "15499               A look into the dark side of comedy.  \n",
      "11822  An edgy  terrifying tale about an intern who f...  \n",
      "3980   The film portrays the adventures of a French p...  \n",
      "11963  The film depicts the life of Robert Mapplethor...  \n",
      "2745   A comedy/drama genre film  about the life of a...  \n",
      "2106   A largely autobiographical film about director...  \n",
      "8395   The film narrates the unusual relationship bet...  \n",
      "12159  The film about two individuals who switched bo...  \n"
     ]
    }
   ],
   "source": [
    "# Step 3: Get recommendation\n",
    "user_embedding = get_embedding_bert(\"I like movies with mind-bending plots and futuristic themes.\")\n",
    "distances, indices = index.search(np.array([user_embedding]).astype('float32'), k=10)\n",
    "print(movie_db.iloc[indices[0]][['title', 'plot']])"
   ]
  },
  {
   "cell_type": "code",
   "execution_count": 110,
   "metadata": {},
   "outputs": [],
   "source": [
    "# Get similar movies given a movie title\n",
    "def get_recommendations_llm(title, model, movies=movie_db, top_n=5):\n",
    "    # Get the index of the movie that matches the title\n",
    "    print(\"matching title\", title)\n",
    "    idx = movie_db[movie_db['title'].str.contains(rf\"\\b{title}\\b\", case=False, na=False, regex=True)].index[0]\n",
    "    print(\"idx\", idx)\n",
    "    \n",
    "    plot_text = movie_db['plot'].iloc[idx].lower()\n",
    "    print(\"title = \", movie_db.iloc[idx]['title'])\n",
    "    print(\"plot = \", plot_text)\n",
    "    \n",
    "    user_embedding = get_embedding_bert(plot_text)\n",
    "    distances, indices = index.search(np.array([user_embedding]).astype('float32'), k=top_n)\n",
    "        \n",
    "    # Return the titles of recommended movies\n",
    "    return movie_db.iloc[indices[0]][['title']]"
   ]
  },
  {
   "cell_type": "code",
   "execution_count": 111,
   "metadata": {},
   "outputs": [
    {
     "name": "stdout",
     "output_type": "stream",
     "text": [
      "matching title Titanic\n",
      "idx 5579\n",
      "title =  Raise the Titanic (film)\n",
      "plot =  in the wilds of northern siberia during the cold war  an american spy breaks into an old  snow-covered mine  where he discovers the frozen body of a u.s. army sergeant next to a wooden marker dated 10 february  1912. using a geiger counter  the spy discovers that byzanium  a highly radioactive element that could be used in nuclear warfare  was mined there. the spy is quickly discovered and chased out of the mine by a soviet soldier  who shoots him in pursuit. the soviet soldier is then shot and killed by dirk pitt  who rescues the spy and takes him back to washington  d.c.the c.i.a. discovers that the mine was operated by americans and that the raw byzanium ore found there was to be sent back to the united states. the byzanium was packaged into wooden shipping boxes by an american named brewster and loaded onboard the ''titanic''  which sank on its maiden voyage on 15 april 1912. pitt travels to speak with a deckhand on the ''titanic'' who was the last person to see brewster alive. the man says that he locked brewster in the vault containing the shipping boxes minutes before the ship sank and that his last words were \"thank god for southby!\". when pitt returns  he proposes a salvage mission to locate the wreck of the ''titanic'' and raise it out of the ocean so they can find the byzanium before the soviets can. pitt and admiral james sandecker propose the plan to the president  who agrees and puts pitt in charge of the operation.soviet diplomat andre prevlov discovers the plan and leaks the story to the press  forcing sandecker to hold a press conference about why the ''titanic'' is being raised. reporters ask him questions about byzanium  but he refuses to answer. meanwhile  navy vessels search the ocean floor in the north atlantic to locate the sunken ocean liner. during the search  one of the submersibles  ''starfish''  experiences a cabin flood and implodes. once the wreckage is found  salvage experts begin the dangerous job of raising the ''titanic''. another submersible  ''deep quest''  experiences a battery shortage  which causes its manipulator arm to become locked onto the ''titanic''s wreckage.eventually  the rusting ''titanic'' is brought to the surface using multiple compressed air tanks and buoyancy aids. the passenger liner is then towed to a dry dock in new york  its original destination. it turns out no expense is being spared because the rare mineral will be used as the power source in a proposed weapons system that could take down any missile entering us airspace. in response  prevlov challenges the united states over the salvage of ''titanic'' because they claim the mineral was taken illegally from the soviet union. on entering the watertight vault  the salvage team discover the mummified remains of the american  but no mineral. the boxes are just full of gravel. it soon becomes evident that a clue was left in the dead american's final words. he had arranged a fake burial in a graveyard in \"southby\"  england prior to sailing back to the united states on the ill-fated ocean liner. it is decided to leave the mineral buried in the grave because knowledge of its existence would destabilise the  that maintains the peace between the west and the soviet union.\n",
      "Recommendations for 'Titanic':\n",
      "                          title\n",
      "5579   Raise the Titanic (film)\n",
      "2782       Contamination (film)\n",
      "6028           MacGruber (film)\n",
      "234              Mad Max (film)\n",
      "5      Miss Congeniality (film)\n",
      "6404               Gen¹³ (film)\n",
      "14461          Seal Team (film)\n",
      "10417         Tokyo Rose (film)\n",
      "4870             Impasse (film)\n",
      "15412        Flight Risk (film)\n"
     ]
    }
   ],
   "source": [
    "# Test the BERT based recommendation system\n",
    "movie_title = 'Titanic'\n",
    "recommendations = get_recommendations_llm(movie_title, model, movie_db, 10)\n",
    "print(f\"Recommendations for '{movie_title}':\")\n",
    "print(recommendations)"
   ]
  },
  {
   "cell_type": "code",
   "execution_count": 59,
   "metadata": {},
   "outputs": [
    {
     "name": "stdout",
     "output_type": "stream",
     "text": [
      "Using device: mps\n"
     ]
    },
    {
     "data": {
      "application/vnd.jupyter.widget-view+json": {
       "model_id": "288176f6ce5144efa6087482ac2a4ee8",
       "version_major": 2,
       "version_minor": 0
      },
      "text/plain": [
       "Batches:   0%|          | 0/494 [00:00<?, ?it/s]"
      ]
     },
     "metadata": {},
     "output_type": "display_data"
    }
   ],
   "source": [
    "# Experiment 2B: Sentence Transformers\n",
    "from sentence_transformers import SentenceTransformer\n",
    "\n",
    "device = torch.device(\"mps\" if torch.mps.is_available() else \"cpu\")\n",
    "print(f\"Using device: {device}\")\n",
    "model = SentenceTransformer('sentence-transformers/all-mpnet-base-v2', device=device)\n",
    "embeddings = model.encode(movie_db['plot'].tolist(), convert_to_tensor=True, show_progress_bar=True)\n",
    "movie_db['embedding'] = [emb.cpu().numpy() for emb in embeddings] "
   ]
  },
  {
   "cell_type": "code",
   "execution_count": 60,
   "metadata": {},
   "outputs": [
    {
     "name": "stdout",
     "output_type": "stream",
     "text": [
      "Index and metadata saved.\n"
     ]
    }
   ],
   "source": [
    "# Save the index and metadata\n",
    "embeddings_np = np.stack(movie_db['embedding']).astype('float32')\n",
    "dimension = embeddings_np.shape[1]  # 768\n",
    "index = faiss.IndexFlatL2(dimension)\n",
    "index.add(embeddings_np)\n",
    "faiss.write_index(index, 'faiss_movie_index.all-mpnet-base-v2')\n",
    "print(\"Index and metadata saved.\")"
   ]
  },
  {
   "cell_type": "code",
   "execution_count": 103,
   "metadata": {},
   "outputs": [
    {
     "name": "stdout",
     "output_type": "stream",
     "text": [
      "Top Recommendations:\n",
      "                                             title  \\\n",
      "13344                                Crumbs (film)   \n",
      "1390                                   Eros (film)   \n",
      "5864                                     2B (film)   \n",
      "14855  Tonite Let's All Make Love in London (film)   \n",
      "3588                               Aversion (film)   \n",
      "12182                           Nightflyers (film)   \n",
      "14682                                 Photo (film)   \n",
      "11571                         Save Yourself (film)   \n",
      "15188                                711 PM (film)   \n",
      "4180                     Beyond the Horizon (film)   \n",
      "\n",
      "                                                    plot  distance  \n",
      "13344  In a dazzlingly imaginative vision of a postap...  1.155251  \n",
      "1390   ;''The Hand''Miss Hua  a 1960s high-end call g...  1.182178  \n",
      "5864   Set in the near future  ''2B'' portrays a fami...  1.259184  \n",
      "14855  The film self-describes as a “Pop Concerto for...  1.266001  \n",
      "3588   This original story marries three different el...  1.271609  \n",
      "12182  The film is about a group of scientists who be...  1.290721  \n",
      "14682  The story begins with a group of friends who c...  1.293923  \n",
      "11571  Five female filmmakers en route to Los Angeles...  1.294557  \n",
      "15188  Future humans from a distant planet arrive in ...  1.301550  \n",
      "4180   The film tells the story of a man whose dreams...  1.312037  \n"
     ]
    }
   ],
   "source": [
    "# Test the sentence transformer recommendation system\n",
    "user_query = \"I like movies with mind-bending plots and futuristic themes.\"\n",
    "user_embedding = model.encode(user_query, convert_to_tensor=True).cpu().numpy().astype('float32')\n",
    "\n",
    "# Search FAISS\n",
    "k = 10\n",
    "distances, indices = index.search(np.array([user_embedding]), k)\n",
    "top_movies = movie_db.iloc[indices[0]].copy()\n",
    "top_movies['distance'] = distances[0]\n",
    "print(\"Top Recommendations:\")\n",
    "print(top_movies[['title', 'plot', 'distance']])"
   ]
  },
  {
   "cell_type": "code",
   "execution_count": 77,
   "metadata": {},
   "outputs": [],
   "source": [
    "# Experiment 2B using Milvus vector database\n",
    "from pymilvus import MilvusClient, DataType\n",
    "\n",
    "client = MilvusClient(\"data/movie_recommendations.db\")\n",
    "schema = MilvusClient.create_schema(\n",
    "    auto_id=False,\n",
    "    enable_dynamic_field=False,\n",
    ")\n",
    "schema.add_field(field_name=\"id\", datatype=DataType.INT64, is_primary=True, auto_id=True)\n",
    "schema.add_field(field_name=\"title\", datatype=DataType.VARCHAR, max_length=256)\n",
    "schema.add_field(field_name=\"plot\", datatype=DataType.VARCHAR, max_length=4096)\n",
    "schema.add_field(field_name=\"embedding\", datatype=DataType.FLOAT_VECTOR, dim=768)\n",
    "\n",
    "if client.has_collection(\"movies\"):\n",
    "    client.drop_collection(\"movies\")\n",
    "    \n",
    "client.create_collection(collection_name=\"movies\", schema=schema)"
   ]
  },
  {
   "cell_type": "code",
   "execution_count": 82,
   "metadata": {},
   "outputs": [],
   "source": [
    "# Create data to insert in vector database\n",
    "data_to_insert = [\n",
    "    {\n",
    "        \"title\": row[\"title\"],\n",
    "        \"plot\": row[\"plot\"],\n",
    "        \"embedding\": row[\"embedding\"].tolist()  # Convert NumPy array to list\n",
    "    }\n",
    "    for _, row in movie_db.iterrows()\n",
    "]"
   ]
  },
  {
   "cell_type": "code",
   "execution_count": 83,
   "metadata": {},
   "outputs": [
    {
     "data": {
      "application/vnd.jupyter.widget-view+json": {
       "model_id": "17f909c3bbe3451d87736bb8fb0815da",
       "version_major": 2,
       "version_minor": 0
      },
      "text/plain": [
       "Inserting into Milvus:   0%|          | 0/15795 [00:00<?, ?it/s]"
      ]
     },
     "metadata": {},
     "output_type": "display_data"
    }
   ],
   "source": [
    "for i in tqdm(range(0, len(data_to_insert)), desc=\"Inserting into Milvus\"):\n",
    "    client.insert(collection_name=\"movies\", data=data_to_insert[i:i+1])"
   ]
  },
  {
   "cell_type": "code",
   "execution_count": 94,
   "metadata": {},
   "outputs": [],
   "source": [
    "# Create index for faster search (HNSW is a good default)\n",
    "index_params = [\n",
    "    {\n",
    "        \"field_name\": \"embedding\",  # Specify the field explicitly\n",
    "        \"index_type\": \"IVF_FLAT\",  # Options: IVF_FLAT, IVF_PQ, HNSW, etc.\n",
    "        \"metric_type\": \"L2\",  # L2 = Euclidean Distance\n",
    "        \"params\": {\"nlist\": 128}  # Adjust based on dataset size\n",
    "    }\n",
    "]\n",
    "client.create_index(collection_name=\"movies\", index_params=index_params)"
   ]
  },
  {
   "cell_type": "code",
   "execution_count": 95,
   "metadata": {},
   "outputs": [],
   "source": [
    "client.load_collection(\"movies\")"
   ]
  },
  {
   "cell_type": "code",
   "execution_count": 96,
   "metadata": {},
   "outputs": [],
   "source": [
    "# User query\n",
    "user_query = \"I like movies with mind-bending plots and futuristic themes.\"\n",
    "user_embedding = model.encode(user_query, convert_to_tensor=False)  # NumPy array"
   ]
  },
  {
   "cell_type": "code",
   "execution_count": 101,
   "metadata": {},
   "outputs": [],
   "source": [
    "# Search Milvus\n",
    "search_params = {\"metric_type\": \"L2\", \"params\": {\"ef\": 64}}\n",
    "results = client.search(\n",
    "    collection_name=\"movies\",\n",
    "    data=[user_embedding.tolist()],  # List of query vectors\n",
    "    limit=10,\n",
    "    output_fields=[\"title\", \"plot\"],\n",
    "    search_params=search_params\n",
    ")"
   ]
  },
  {
   "cell_type": "code",
   "execution_count": 102,
   "metadata": {},
   "outputs": [
    {
     "name": "stdout",
     "output_type": "stream",
     "text": [
      "Top Recommendations:\n",
      "Title: Crumbs (film)\n",
      "Description: In a dazzlingly imaginative vision of a postapocalyptic Ethiopia  a hapless scavenger finds himself launched on a surreal adventure involving a mysterious UFO  witches  Santa Claus  Nazi knights  and more. Conjuring a loop-the-loop universe from the detritus of late-twentieth-century pop culture (from Michael Jordan to Ninja Turtles)  this psychedelic fantasia surprises and charms as it spins off its own giddy axis.==See also==List of Afrofuturist films\n",
      "Distance: 1.1553\n",
      "\n",
      "Title: Eros (film)\n",
      "Description: ;''The Hand''Miss Hua  a 1960s high-end call girl is visited by a shy dressmaker's assistant Zhang  to take her measure. He hears the sounds of sex  as he waits in her living room. He is drawn towards her but there is no meeting ground between the two individuals from completely different classes. She summons him when her client leaves. She tells him  she will supply him with an aid to his memory. He will think about her while designing her clothes  she says.<ref name=ebert></ref><ref name=rotten></ref>;''Equilibrium''Nick Penrose is an advertising executive in the year 1955 under enormous pressure at work. He tells his psychiatrist Dr. Pearl about a recurring dream of a beautiful naked woman in his apartment  as they discuss the possible reasons why his stress seems to manifest itself in the erotic dream.<ref name=ebert/><ref name=rotten/>;''The Dangerous Thread of Things''A bored couple  Christopher and Cloe   take a stroll near a resort on a lake on the coast of Tuscany. Visiting a restaurant on the beach  they see a sexy young woman  Linda. Linda tells him where she lives  inside a crumbling medieval tower. He goes to visit her and they have sex. As Christopher leaves the place  the two women later encounter each other on the beach  both naked.<ref name=ebert/><ref name=rotten/><ref></ref>\n",
      "Distance: 1.1822\n",
      "\n",
      "Title: 2B (film)\n",
      "Description: Set in the near future  ''2B'' portrays a familiar decaying world on the cusp of \"great transformation and awesome wonders\". The story is based upon real science and evolving technologies. When the world's first transhuman is created by a renegade corporate CEO and bioscientist  the foundations of society's beliefs are threatened in a transhuman world where man merges with technology.<ref>[http://www.woodstockfilmfestival.com/festival2009/details.php?id=20876 World Premiere]  Woodstock Film Festival  Retrieved 2012-06-05</ref>\n",
      "Distance: 1.2592\n",
      "\n",
      "Title: Tonite Let's All Make Love in London (film)\n",
      "Description: The film self-describes as a “Pop Concerto for Film” and is divided into seven themed sections or “movements” with a prelude and a coda.Pink Floyd&nbsp;– \"Interstellar Overdrive\" 1. Loss of the British Empire2. Dollygirls3. Protest4. It’s All Pop Music5. Movie Stars6. Painting Pop7. As Scene from U.S.A.\n",
      "Distance: 1.2660\n",
      "\n",
      "Title: Aversion (film)\n",
      "Description: This original story marries three different elements into one plot.Alex Stokes (Andrew Roth) is a self-destructive  down-on-his-luck investigator who takes cases wherever he can. When a mysterious man offers him a healthy sum to follow his beautiful wife Claire (Melantha Blackthorne)  Alex can't resist. Her seemingly mundane day-to-day activities take a strange turn when she tries to kill herself.After saving her  their chemistry proves too much to resist  and they become romantically entangled. But the fun has just begun as her demonic possessions escalate and Alex's entire town gets sucked into a vortex of evil. Can one lost soul get it together in time to save mankind?The movie is considered a film noir because it involves a self-destructive  down-and-out investigator who takes on a case that may be more than he can handle. Incorporating standard elements like a beautiful woman  excessive drinking and subtle voiceover  the piece is set up like a standard detective film.\n",
      "Distance: 1.2716\n",
      "\n",
      "Title: Nightflyers (film)\n",
      "Description: The film is about a group of scientists who begin a space voyage to find a mysterious alien being  and in the process are victimized by the ship's malevolent computer.\n",
      "Distance: 1.2907\n",
      "\n",
      "Title: Photo (film)\n",
      "Description: The story begins with a group of friends who come across an old photograph. This photograph seems to have supernatural elements associated with it  causing eerie and unexplained events in their lives. As the friends try to uncover the mystery behind the photograph  they encounter various challenges and frightening occurrences.The movie explores themes of horror and suspense  building tension as the plot progresses.\n",
      "Distance: 1.2939\n",
      "\n",
      "Title: Save Yourself (film)\n",
      "Description: Five female filmmakers en route to Los Angeles to a screening of their new horror film  experience real life terror when their paths cross with a maniacal scientist.\n",
      "Distance: 1.2946\n",
      "\n",
      "Title: 711 PM (film)\n",
      "Description: Future humans from a distant planet arrive in a small Indian town named Hamsaladeevi<ref></ref> on a fateful day in 1999 in search of answers that will determine the survival of human species in the future. On the same day  things are already moving rapidly to wipe the town off the face of earth. At 7:11 PM  these events come together to create a suspenseful thriller that will have audience guessing and on the edge of their seats.\n",
      "Distance: 1.3016\n",
      "\n",
      "Title: Beyond the Horizon (film)\n",
      "Description: The film tells the story of a man whose dreams are premonitions of the future.The protagonist is psychologically disturbed by recurring nightmares. Something is adrift in a river inlet  drawing ever closer to him. To seek solace  he approaches a psychiatrist and for a short while is freed from nightmares until he meets a woman and falls in love.\n",
      "Distance: 1.3120\n",
      "\n"
     ]
    }
   ],
   "source": [
    "# Display results\n",
    "print(\"Top Recommendations:\")\n",
    "for result in results[0]:  # First query's results\n",
    "    print(f\"Title: {result['entity']['title']}\")\n",
    "    print(f\"Description: {result['entity']['plot']}\")\n",
    "    print(f\"Distance: {result['distance']:.4f}\\n\")"
   ]
  },
  {
   "cell_type": "code",
   "execution_count": null,
   "metadata": {},
   "outputs": [],
   "source": []
  }
 ],
 "metadata": {
  "kernelspec": {
   "display_name": "berkeley_ai",
   "language": "python",
   "name": "berkeley_ai"
  },
  "language_info": {
   "codemirror_mode": {
    "name": "ipython",
    "version": 3
   },
   "file_extension": ".py",
   "mimetype": "text/x-python",
   "name": "python",
   "nbconvert_exporter": "python",
   "pygments_lexer": "ipython3",
   "version": "3.11.9"
  }
 },
 "nbformat": 4,
 "nbformat_minor": 4
}
